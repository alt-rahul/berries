{
 "cells": [
  {
   "cell_type": "code",
   "execution_count": 2,
   "id": "feb78eb6",
   "metadata": {},
   "outputs": [],
   "source": [
    "import torch\n",
    "import torch.nn as nn\n",
    "from sklearn.model_selection import train_test_split\n",
    "import numpy as np\n",
    "import pandas as pd\n",
    "from dotenv import load_dotenv, find_dotenv"
   ]
  },
  {
   "cell_type": "code",
   "execution_count": null,
   "id": "ff154459",
   "metadata": {},
   "outputs": [],
   "source": [
    "from PIL import Image\n",
    "import os\n",
    "import matplotlib.pyplot as plt\n",
    "\n",
    "load_dotenv(find_dotenv())\n",
    "\n",
    "path_name = os.environ.get(\"PATH_NAME\" + \"\\d\")\n",
    "im = Image.open(path_name)"
   ]
  },
  {
   "cell_type": "code",
   "execution_count": 9,
   "id": "2b4c0967",
   "metadata": {},
   "outputs": [],
   "source": [
    "im_array = np.asarray(im)\n",
    "im_tensor = torch.from_numpy(im_array.copy())"
   ]
  },
  {
   "cell_type": "code",
   "execution_count": null,
   "id": "a1e1408c",
   "metadata": {},
   "outputs": [],
   "source": [
    "labels = pd.read_csv(\"class_names.csv\")"
   ]
  },
  {
   "cell_type": "code",
   "execution_count": null,
   "id": "d4190070",
   "metadata": {},
   "outputs": [],
   "source": [
    "data = {}"
   ]
  },
  {
   "cell_type": "code",
   "execution_count": null,
   "id": "833e94ae",
   "metadata": {},
   "outputs": [],
   "source": [
    "for label in labels:\n"
   ]
  }
 ],
 "metadata": {
  "kernelspec": {
   "display_name": "base",
   "language": "python",
   "name": "python3"
  },
  "language_info": {
   "codemirror_mode": {
    "name": "ipython",
    "version": 3
   },
   "file_extension": ".py",
   "mimetype": "text/x-python",
   "name": "python",
   "nbconvert_exporter": "python",
   "pygments_lexer": "ipython3",
   "version": "3.12.7"
  }
 },
 "nbformat": 4,
 "nbformat_minor": 5
}
