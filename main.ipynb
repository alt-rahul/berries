{
 "cells": [
  {
   "cell_type": "code",
   "execution_count": 1,
   "id": "feb78eb6",
   "metadata": {},
   "outputs": [],
   "source": [
    "import torch\n",
    "import torch.nn as nn\n",
    "from sklearn.model_selection import train_test_split\n",
    "import numpy as np\n",
    "import pandas as pd\n",
    "from dotenv import load_dotenv, find_dotenv"
   ]
  },
  {
   "cell_type": "code",
   "execution_count": 10,
   "id": "ff154459",
   "metadata": {},
   "outputs": [],
   "source": [
    "from PIL import Image\n",
    "import os\n",
    "import matplotlib.pyplot as plt\n",
    "\n",
    "load_dotenv(find_dotenv())\n",
    "\n",
    "folder = os.environ.get(\"PATH_NAME\")\n",
    "img_dir = folder + \"/burdock\""
   ]
  },
  {
   "cell_type": "code",
   "execution_count": 17,
   "id": "8bdb4a01",
   "metadata": {},
   "outputs": [],
   "source": [
    "data = []\n",
    "for i in range(459):\n",
    "    temp_dir = img_dir + f\"/burdock{i}.jpg\"\n",
    "    im = Image.open(temp_dir)\n",
    "    im_a = np.asarray(im)\n",
    "    im_t = torch.from_numpy(im_a.copy())\n",
    "    data.append([im_a, \"Burdock\"])"
   ]
  },
  {
   "cell_type": "code",
   "execution_count": 31,
   "id": "a1e1408c",
   "metadata": {},
   "outputs": [],
   "source": [
    "labels = pd.read_csv(\"class_names.csv\")"
   ]
  },
  {
   "cell_type": "code",
   "execution_count": 32,
   "id": "d4190070",
   "metadata": {},
   "outputs": [],
   "source": [
    "data = {}"
   ]
  }
 ],
 "metadata": {
  "kernelspec": {
   "display_name": "base",
   "language": "python",
   "name": "python3"
  },
  "language_info": {
   "codemirror_mode": {
    "name": "ipython",
    "version": 3
   },
   "file_extension": ".py",
   "mimetype": "text/x-python",
   "name": "python",
   "nbconvert_exporter": "python",
   "pygments_lexer": "ipython3",
   "version": "3.12.7"
  }
 },
 "nbformat": 4,
 "nbformat_minor": 5
}
