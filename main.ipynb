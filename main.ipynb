{
 "cells": [
  {
   "cell_type": "code",
   "execution_count": 27,
   "id": "feb78eb6",
   "metadata": {},
   "outputs": [],
   "source": [
    "import torch\n",
    "import torch.nn as nn\n",
    "from sklearn.model_selection import train_test_split\n",
    "import numpy as np\n",
    "import pandas as pd\n",
    "from dotenv import load_dotenv, find_dotenv"
   ]
  },
  {
   "cell_type": "code",
   "execution_count": 37,
   "id": "ff154459",
   "metadata": {},
   "outputs": [],
   "source": [
    "from PIL import Image\n",
    "import os, os.path\n",
    "import matplotlib.pyplot as plt\n",
    "\n",
    "load_dotenv(find_dotenv())\n",
    "\n",
    "folder = os.environ.get(\"PATH_NAME\")\n",
    "img_dir = folder "
   ]
  },
  {
   "cell_type": "code",
   "execution_count": null,
   "id": "a1e1408c",
   "metadata": {},
   "outputs": [],
   "source": [
    "def modify(string):\n",
    "    string = string.lower()\n",
    "    string = string.replace(\" \", \"_\")\n",
    "    return string\n",
    "labels = pd.read_csv(\"class_names.csv\")\n",
    "labels = labels.iloc[:, 0].apply(modify).tolist()\n",
    "labels[8] = \"chive_blossom\""
   ]
  },
  {
   "cell_type": "code",
   "execution_count": null,
   "id": "0ffbf39f",
   "metadata": {},
   "outputs": [],
   "source": [
    "dir_lengths = []\n",
    "for label in labels:\n",
    "    dir_len = [file for file in os.listdir(f\"dataset/{label}\")]\n",
    "    dir_lengths.append(len(dir_len))"
   ]
  },
  {
   "cell_type": "code",
   "execution_count": null,
   "id": "ad18eff8",
   "metadata": {},
   "outputs": [],
   "source": [
    "data = []\n",
    "\n",
    "for label, qty in zip(labels, dir_lengths):\n",
    "    file_path = folder + f'/{label}'\n",
    "    for image in os.listdir(file_path):\n",
    "        im = Image.open(os.path.join(file_path, image))\n",
    "        im_a = np.asarray(im)\n",
    "        im_t = torch.from_numpy(im_a)\n",
    "        data.append([im_t, label])"
   ]
  }
 ],
 "metadata": {
  "kernelspec": {
   "display_name": "base",
   "language": "python",
   "name": "python3"
  },
  "language_info": {
   "codemirror_mode": {
    "name": "ipython",
    "version": 3
   },
   "file_extension": ".py",
   "mimetype": "text/x-python",
   "name": "python",
   "nbconvert_exporter": "python",
   "pygments_lexer": "ipython3",
   "version": "3.12.7"
  }
 },
 "nbformat": 4,
 "nbformat_minor": 5
}
